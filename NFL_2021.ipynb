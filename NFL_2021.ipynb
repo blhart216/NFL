{
 "cells": [
  {
   "cell_type": "code",
   "execution_count": 1,
   "metadata": {},
   "outputs": [],
   "source": [
    "from bs4 import BeautifulSoup\n",
    "import requests\n",
    "import time\n",
    "import pandas as pd\n"
   ]
  },
  {
   "cell_type": "code",
   "execution_count": 2,
   "metadata": {},
   "outputs": [],
   "source": [
    "stat_cats = ['passing'\n",
    "             ,'rushing'\n",
    "             ,'receiving'\n",
    "             ,'fumbles'\n",
    "             ,'tackles'\n",
    "             ,'interceptions'\n",
    "             ,'field-goals'\n",
    "             ,'kickoffs'\n",
    "             ,'kickoff-returns'\n",
    "             ,'punting'\n",
    "             ,'punt-returns']\n",
    "stat_urls =  ['passingyards/desc'\n",
    "              ,'rushingyards/desc'\n",
    "              ,'receivingreceptions/desc'\n",
    "              ,'defensiveforcedfumble/desc'\n",
    "              ,'defensivecombinetackles/desc'\n",
    "              ,'defensiveinterceptions/desc'\n",
    "              ,'kickingfgmade/desc'\n",
    "              ,'kickofftotal/desc'\n",
    "               ,'kickreturnsaverageyards/desc'\n",
    "              ,'puntingaverageyards/desc'\n",
    "              ,'puntreturnsaverageyards/desc']\n",
    "                \n",
    "         \n",
    "            "
   ]
  },
  {
   "cell_type": "code",
   "execution_count": 3,
   "metadata": {},
   "outputs": [
    {
     "name": "stdout",
     "output_type": "stream",
     "text": [
      "Choose: passing,rushing,receiving,fumbles,tackles,interceptions,field-goals,kickoffs,kickoff-returns,punting,punt-returnsrushing\n",
      "Choose Year: 1986\n"
     ]
    }
   ],
   "source": [
    "\n",
    "choice = input(\"Choose: passing,rushing,receiving,fumbles,tackles,interceptions,field-goals,kickoffs,kickoff-returns,punting,punt-returns\")\n",
    "\n",
    "year = input(\"Choose Year: \")\n",
    "        "
   ]
  },
  {
   "cell_type": "code",
   "execution_count": 4,
   "metadata": {},
   "outputs": [
    {
     "name": "stdout",
     "output_type": "stream",
     "text": [
      "Attempting to send a request to this url: https://www.nfl.com/stats/player-stats/category/rushing/1986/REG/all/rushingyards/desc\n"
     ]
    }
   ],
   "source": [
    "root = 'https://www.nfl.com' \n",
    "url_piece1 = '/stats/player-stats/category/'\n",
    "url_piece2 = '/REG/all/' #defaulting to all & regular season\n",
    "\n",
    "url = root + url_piece1+choice + '/' + year + url_piece2 + stat_urls[stat_cats.index(choice)]\n",
    "headers = []\n",
    "data = []\n",
    "print(\"Attempting to send a request to this url:\",url)"
   ]
  },
  {
   "cell_type": "code",
   "execution_count": 5,
   "metadata": {},
   "outputs": [],
   "source": [
    "#Get web page html and create soup object\n",
    "response = requests.get(url)\n",
    "webpage = response.content\n",
    "soup = BeautifulSoup(webpage, \"html.parser\")"
   ]
  },
  {
   "cell_type": "code",
   "execution_count": 6,
   "metadata": {},
   "outputs": [],
   "source": [
    "#Search for the table html markup\n",
    "table = soup.find('table', { 'class' : 'd3-o-table d3-o-table--detailed d3-o-player-stats--detailed d3-o-table--sortable' })\n",
    "rows = table('tr')"
   ]
  },
  {
   "cell_type": "code",
   "execution_count": 8,
   "metadata": {},
   "outputs": [
    {
     "data": {
      "text/plain": [
       "['Player',\n",
       " 'Rush Yds',\n",
       " 'Att',\n",
       " 'TD',\n",
       " '20+',\n",
       " '40+',\n",
       " 'Lng',\n",
       " 'Rush 1st',\n",
       " 'Rush 1st%',\n",
       " 'Rush FUM']"
      ]
     },
     "execution_count": 8,
     "metadata": {},
     "output_type": "execute_result"
    }
   ],
   "source": [
    "# First step, grab headers and get next page link\n",
    "\n",
    "# get_text() gets all the text between tags\n",
    "for row in rows:\n",
    "    for tag in row:\n",
    "        if tag.name == 'th':\n",
    "            headers.append(tag.get_text().strip())\n",
    "headers"
   ]
  },
  {
   "cell_type": "code",
   "execution_count": 9,
   "metadata": {},
   "outputs": [],
   "source": [
    "#Get next page button link\n",
    "link  = soup.find('a', { 'class' : 'nfl-o-table-pagination__next' })\n",
    "\n",
    "# Web scrape the first page\n",
    "\n",
    "for row in rows:\n",
    "    cur_row = []\n",
    "    for tag in row:\n",
    "        if tag.name == 'td':\n",
    "            cur_row.append(tag.get_text().strip())\n",
    "    if cur_row: # only add the row if it has data\n",
    "        data.append(cur_row)\n"
   ]
  },
  {
   "cell_type": "code",
   "execution_count": 11,
   "metadata": {},
   "outputs": [
    {
     "name": "stdout",
     "output_type": "stream",
     "text": [
      "https://www.nfl.com/stats/player-stats/category/rushing/1986/REG/all/rushingYards/DESC?aftercursor=000000190000000000850010007900084083c000000000006e00000005000000045f74626c00000010706572736f6e5f7465616d5f737461740000000565736249640000000952494431383435373400000004726f6c6500000003504c5900000008736561736f6e496400000004313938360000000a736561736f6e5479706500000003524547f07fffffe6f07fffffe64b8b64c72eca8eed4ec52bb87010d9eb0004\n",
      "https://www.nfl.com/stats/player-stats/category/rushing/1986/REG/all/rushingYards/DESC?aftercursor=000000320000000000850010007900084075b000000000006e00000005000000045f74626c00000010706572736f6e5f7465616d5f7374617400000005657362496400000009414e4430343035313600000004726f6c6500000003504c5900000008736561736f6e496400000004313938360000000a736561736f6e5479706500000003524547f07fffffcdf07fffffcd653e6ae934b5d9525d32b9bd7eb43d7e0004\n",
      "https://www.nfl.com/stats/player-stats/category/rushing/1986/REG/all/rushingYards/DESC?aftercursor=0000004b000000000085001000790008406c4000000000006e00000005000000045f74626c00000010706572736f6e5f7465616d5f73746174000000056573624964000000094a4f4837383139373700000004726f6c6500000003504c5900000008736561736f6e496400000004313938360000000a736561736f6e5479706500000003524547f07fffffb4f07fffffb48142fd1561ebfa70af06431c2dc5f07b0004\n",
      "https://www.nfl.com/stats/player-stats/category/rushing/1986/REG/all/rushingYards/DESC?aftercursor=000000640000000000850010007900084062a000000000006e00000005000000045f74626c00000010706572736f6e5f7465616d5f73746174000000056573624964000000094d4f5234393135353000000004726f6c6500000003504c5900000008736561736f6e496400000004313938360000000a736561736f6e5479706500000003524547f07fffff9bf07fffff9bcda64938520c473d03ccde3a98ccc06e0004\n",
      "https://www.nfl.com/stats/player-stats/category/rushing/1986/REG/all/rushingYards/DESC?aftercursor=0000007d00000000008500100079000840534000000000006e00000005000000045f74626c00000010706572736f6e5f7465616d5f737461740000000565736249640000000948415231393336333500000004726f6c6500000003504c5900000008736561736f6e496400000004313938360000000a736561736f6e5479706500000003524547f07fffff82f07fffff8278add5fdd6c4bafca144cccf1a9d39360004\n",
      "https://www.nfl.com/stats/player-stats/category/rushing/1986/REG/all/rushingYards/DESC?aftercursor=0000009600000000008500100079000840458000000000006e00000005000000045f74626c00000010706572736f6e5f7465616d5f737461740000000565736249640000000945564533353539363200000004726f6c6500000003504c5900000008736561736f6e496400000004313938360000000a736561736f6e5479706500000003524547f07fffff69f07fffff69c04ad0c74af692ab4f9d49ab0bce01c10004\n",
      "https://www.nfl.com/stats/player-stats/category/rushing/1986/REG/all/rushingYards/DESC?aftercursor=000000af00000000008500100079000840360000000000006e00000005000000045f74626c00000010706572736f6e5f7465616d5f737461740000000565736249640000000957494c32343837383700000004726f6c6500000003504c5900000008736561736f6e496400000004313938360000000a736561736f6e5479706500000003524547f07fffff50f07fffff50655d04953799afb399b761ec2a7d195a0004\n",
      "https://www.nfl.com/stats/player-stats/category/rushing/1986/REG/all/rushingYards/DESC?aftercursor=000000c8000000000085001000790008402c0000000000006e00000005000000045f74626c00000010706572736f6e5f7465616d5f73746174000000056573624964000000094a4f4e33373837303800000004726f6c6500000003504c5900000008736561736f6e496400000004313938360000000a736561736f6e5479706500000003524547f07fffff37f07fffff375f3d4538e7e3236b318a22aa2cdcd3cd0004\n",
      "https://www.nfl.com/stats/player-stats/category/rushing/1986/REG/all/rushingYards/DESC?aftercursor=000000e100000000008500100079000840180000000000006e00000005000000045f74626c00000010706572736f6e5f7465616d5f73746174000000056573624964000000094a414333383832303400000004726f6c6500000003504c5900000008736561736f6e496400000004313938360000000a736561736f6e5479706500000003524547f07fffff1ef07fffff1e56d206428dbf20757108a16848690c310004\n",
      "https://www.nfl.com/stats/player-stats/category/rushing/1986/REG/all/rushingYards/DESC?aftercursor=000000fa00000000008500100079000840000000000000006e00000005000000045f74626c00000010706572736f6e5f7465616d5f737461740000000565736249640000000947554d34313532393100000004726f6c6500000003504c5900000008736561736f6e496400000004313938360000000a736561736f6e5479706500000003524547f07fffff05f07fffff05835a59437a32e973e2bcc9accbe566dc0004\n"
     ]
    }
   ],
   "source": [
    "#Iterate over the next pages of the stat data and scrape contents into the data list. Program iterates while it can find the next page link. \n",
    "\n",
    "while link is not None:\n",
    "    next_url = root + link['href']\n",
    "    response = requests.get(next_url)\n",
    "    webpage = response.content\n",
    "    soup = BeautifulSoup(webpage, \"html.parser\")\n",
    "    print(next_url)\n",
    "    link  = soup.find('a', { 'class' : 'nfl-o-table-pagination__next' })\n",
    "    time.sleep(1) #pause program so it doesn't get flagged as a malicious server attack\n",
    "    table = soup.find('table', { 'class' : 'd3-o-table d3-o-table--detailed d3-o-player-stats--detailed d3-o-table--sortable' })\n",
    "    rows = table('tr')\n",
    "    for row in rows:\n",
    "        cur_row = []\n",
    "        for tag in row:\n",
    "            if tag.name == 'td':\n",
    "                cur_row.append(tag.get_text().strip())\n",
    "        if cur_row: # only add the row if it has data\n",
    "            data.append(cur_row)"
   ]
  },
  {
   "cell_type": "code",
   "execution_count": 12,
   "metadata": {},
   "outputs": [],
   "source": [
    "# Convert stats to dataframe\n",
    "stats = pd.DataFrame(data, columns = headers)"
   ]
  },
  {
   "cell_type": "code",
   "execution_count": 14,
   "metadata": {},
   "outputs": [
    {
     "data": {
      "text/html": [
       "<div>\n",
       "<style scoped>\n",
       "    .dataframe tbody tr th:only-of-type {\n",
       "        vertical-align: middle;\n",
       "    }\n",
       "\n",
       "    .dataframe tbody tr th {\n",
       "        vertical-align: top;\n",
       "    }\n",
       "\n",
       "    .dataframe thead th {\n",
       "        text-align: right;\n",
       "    }\n",
       "</style>\n",
       "<table border=\"1\" class=\"dataframe\">\n",
       "  <thead>\n",
       "    <tr style=\"text-align: right;\">\n",
       "      <th></th>\n",
       "      <th>Player</th>\n",
       "      <th>Rush Yds</th>\n",
       "      <th>Att</th>\n",
       "      <th>TD</th>\n",
       "      <th>20+</th>\n",
       "      <th>40+</th>\n",
       "      <th>Lng</th>\n",
       "      <th>Rush 1st</th>\n",
       "      <th>Rush 1st%</th>\n",
       "      <th>Rush FUM</th>\n",
       "    </tr>\n",
       "  </thead>\n",
       "  <tbody>\n",
       "    <tr>\n",
       "      <th>0</th>\n",
       "      <td>Eric Dickerson</td>\n",
       "      <td>1821</td>\n",
       "      <td>404</td>\n",
       "      <td>11</td>\n",
       "      <td>0</td>\n",
       "      <td>0</td>\n",
       "      <td>42</td>\n",
       "      <td>0</td>\n",
       "      <td>0</td>\n",
       "      <td>0</td>\n",
       "    </tr>\n",
       "    <tr>\n",
       "      <th>1</th>\n",
       "      <td>Joe Morris</td>\n",
       "      <td>1516</td>\n",
       "      <td>341</td>\n",
       "      <td>14</td>\n",
       "      <td>0</td>\n",
       "      <td>0</td>\n",
       "      <td>54</td>\n",
       "      <td>0</td>\n",
       "      <td>0</td>\n",
       "      <td>0</td>\n",
       "    </tr>\n",
       "    <tr>\n",
       "      <th>2</th>\n",
       "      <td>Curt Warner</td>\n",
       "      <td>1481</td>\n",
       "      <td>319</td>\n",
       "      <td>13</td>\n",
       "      <td>0</td>\n",
       "      <td>0</td>\n",
       "      <td>60</td>\n",
       "      <td>0</td>\n",
       "      <td>0</td>\n",
       "      <td>0</td>\n",
       "    </tr>\n",
       "    <tr>\n",
       "      <th>3</th>\n",
       "      <td>Rueben Mayes</td>\n",
       "      <td>1353</td>\n",
       "      <td>286</td>\n",
       "      <td>8</td>\n",
       "      <td>0</td>\n",
       "      <td>0</td>\n",
       "      <td>50</td>\n",
       "      <td>0</td>\n",
       "      <td>0</td>\n",
       "      <td>0</td>\n",
       "    </tr>\n",
       "    <tr>\n",
       "      <th>4</th>\n",
       "      <td>Walter Payton</td>\n",
       "      <td>1333</td>\n",
       "      <td>321</td>\n",
       "      <td>8</td>\n",
       "      <td>0</td>\n",
       "      <td>0</td>\n",
       "      <td>41</td>\n",
       "      <td>0</td>\n",
       "      <td>0</td>\n",
       "      <td>0</td>\n",
       "    </tr>\n",
       "    <tr>\n",
       "      <th>...</th>\n",
       "      <td>...</td>\n",
       "      <td>...</td>\n",
       "      <td>...</td>\n",
       "      <td>...</td>\n",
       "      <td>...</td>\n",
       "      <td>...</td>\n",
       "      <td>...</td>\n",
       "      <td>...</td>\n",
       "      <td>...</td>\n",
       "      <td>...</td>\n",
       "    </tr>\n",
       "    <tr>\n",
       "      <th>251</th>\n",
       "      <td>Tony Boddie</td>\n",
       "      <td>2</td>\n",
       "      <td>1</td>\n",
       "      <td>0</td>\n",
       "      <td>0</td>\n",
       "      <td>0</td>\n",
       "      <td>2</td>\n",
       "      <td>0</td>\n",
       "      <td>0</td>\n",
       "      <td>0</td>\n",
       "    </tr>\n",
       "    <tr>\n",
       "      <th>252</th>\n",
       "      <td>Webster Slaughter</td>\n",
       "      <td>1</td>\n",
       "      <td>1</td>\n",
       "      <td>0</td>\n",
       "      <td>0</td>\n",
       "      <td>0</td>\n",
       "      <td>1</td>\n",
       "      <td>0</td>\n",
       "      <td>0</td>\n",
       "      <td>0</td>\n",
       "    </tr>\n",
       "    <tr>\n",
       "      <th>253</th>\n",
       "      <td>Hubie Oliver</td>\n",
       "      <td>1</td>\n",
       "      <td>1</td>\n",
       "      <td>0</td>\n",
       "      <td>0</td>\n",
       "      <td>0</td>\n",
       "      <td>1</td>\n",
       "      <td>0</td>\n",
       "      <td>0</td>\n",
       "      <td>0</td>\n",
       "    </tr>\n",
       "    <tr>\n",
       "      <th>254</th>\n",
       "      <td>Jeff Hostetler</td>\n",
       "      <td>1</td>\n",
       "      <td>1</td>\n",
       "      <td>0</td>\n",
       "      <td>0</td>\n",
       "      <td>0</td>\n",
       "      <td>1</td>\n",
       "      <td>0</td>\n",
       "      <td>0</td>\n",
       "      <td>0</td>\n",
       "    </tr>\n",
       "    <tr>\n",
       "      <th>255</th>\n",
       "      <td>Steve DeBerg</td>\n",
       "      <td>1</td>\n",
       "      <td>2</td>\n",
       "      <td>1</td>\n",
       "      <td>0</td>\n",
       "      <td>0</td>\n",
       "      <td>1</td>\n",
       "      <td>0</td>\n",
       "      <td>0</td>\n",
       "      <td>0</td>\n",
       "    </tr>\n",
       "  </tbody>\n",
       "</table>\n",
       "<p>256 rows × 10 columns</p>\n",
       "</div>"
      ],
      "text/plain": [
       "                Player Rush Yds  Att  TD 20+ 40+ Lng Rush 1st Rush 1st%  \\\n",
       "0       Eric Dickerson     1821  404  11   0   0  42        0         0   \n",
       "1           Joe Morris     1516  341  14   0   0  54        0         0   \n",
       "2          Curt Warner     1481  319  13   0   0  60        0         0   \n",
       "3         Rueben Mayes     1353  286   8   0   0  50        0         0   \n",
       "4        Walter Payton     1333  321   8   0   0  41        0         0   \n",
       "..                 ...      ...  ...  ..  ..  ..  ..      ...       ...   \n",
       "251        Tony Boddie        2    1   0   0   0   2        0         0   \n",
       "252  Webster Slaughter        1    1   0   0   0   1        0         0   \n",
       "253       Hubie Oliver        1    1   0   0   0   1        0         0   \n",
       "254     Jeff Hostetler        1    1   0   0   0   1        0         0   \n",
       "255       Steve DeBerg        1    2   1   0   0   1        0         0   \n",
       "\n",
       "    Rush FUM  \n",
       "0          0  \n",
       "1          0  \n",
       "2          0  \n",
       "3          0  \n",
       "4          0  \n",
       "..       ...  \n",
       "251        0  \n",
       "252        0  \n",
       "253        0  \n",
       "254        0  \n",
       "255        0  \n",
       "\n",
       "[256 rows x 10 columns]"
      ]
     },
     "metadata": {},
     "output_type": "display_data"
    }
   ],
   "source": [
    "display(stats)"
   ]
  },
  {
   "cell_type": "code",
   "execution_count": 28,
   "metadata": {},
   "outputs": [],
   "source": [
    "stats.to_excel(choice + year + '.xlsx',index=False)"
   ]
  },
  {
   "cell_type": "code",
   "execution_count": null,
   "metadata": {},
   "outputs": [],
   "source": []
  }
 ],
 "metadata": {
  "kernelspec": {
   "display_name": "Python 3",
   "language": "python",
   "name": "python3"
  },
  "language_info": {
   "codemirror_mode": {
    "name": "ipython",
    "version": 3
   },
   "file_extension": ".py",
   "mimetype": "text/x-python",
   "name": "python",
   "nbconvert_exporter": "python",
   "pygments_lexer": "ipython3",
   "version": "3.8.5"
  }
 },
 "nbformat": 4,
 "nbformat_minor": 4
}
